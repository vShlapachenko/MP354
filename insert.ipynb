{
 "cells": [
  {
   "cell_type": "markdown",
   "metadata": {},
   "source": [
    "library.db schema: <br />\n",
    "\n",
    "Entity Sets <br />\n",
    "\n",
    " - Person = {<span style=\"text-decoration:underline\">libNumber</span>, firstName, LastName}\n",
    "  \n",
    " - Personnel = {<span style=\"text-decoration:underline\">libNumber</span><sup>FK-Person</sup>, salary, salary}\n",
    "  \n",
    " - PersonnelRecords = {<span style=\"text-decoration:underline\">logID</span>, messageLog}    \n",
    " \n",
    " - Event = {<span style=\"text-decoration:underline\">eventID</span>, datetime}\n",
    "\n",
    " - Audience = {<span style=\"text-decoration:underline\">audienceID</span>, audienceName}\n",
    " \n",
    " - SocialRoom = {<span style=\"text-decoration:underline\">roomNumber</span>. roomCapacity}\n",
    "\n",
    " - BookClub = {<span style=\"text-decoration:underline\">eventID</span><sup>FK-Event</sup>, clubName}\n",
    " \n",
    " - ArtShow = {<span style=\"text-decoration:underline\">eventID</span><sup>FK-Event</sup>, name}\n",
    "\n",
    " - ItemRecords = {<span style=\"text-decoration:underline\">itemID</span>, penaltyFee, dueDate, available}\n",
    "        \n",
    " - Book = {<span style=\"text-decoration:underline\">itemID</span><sup>FK-ItemRecords</sup>, title, author, publisher}\n",
    "    \n",
    " - CD = {<span style=\"text-decoration:underline\">itemID</span><sup>FK-ItemRecords</sup>, title, producer, director}\n",
    "    \n",
    " - Magazine = {<span style=\"text-decoration:underline\">itemID</span><sup>FK-ItemRecords</sup>, name, publisher}\n",
    "  \n",
    "Relationships <br />\n",
    "\n",
    " - Borrows = {<span style=\"text-decoration:underline\">libNumber</span><sup>FK-Person</sup>, <span style=\"text-decoration:underline\">itemID</span><sup>FK-ItemRecords</sup>}\n",
    "\n",
    " - Log = {<span style=\"text-decoration:underline\">employeeID</span><sup>FK-Oersonnel</sup>, <span style=\"text-decoration:underline\">logID</span><sup>FK-PersonnelRecords</sup>}\n",
    " \n",
    " - Orgabnize = {<span style=\"text-decoration:underline\">eventID</span><sup>FK-Event</sup>, <span style=\"text-decoration:underline\">libNumber</span><sup>FK-Person</sup>}\n",
    " \n",
    " - Recommend = {<span style=\"text-decoration:underline\">type</span><sup>FK-Audience</sup>, <span style=\"text-decoration:underline\">eventID</span><sup>FK-Event</sup>}\n",
    " \n",
    " - Held = {<span style=\"text-decoration:underline\">eventID</span><sup>FK-Event</sup>, <span style=\"text-decoration:underline\">roomNumber</span><sup>FK-SocialRoom</sup>}\n",
    " \n",
    " - Attend = {<span style=\"text-decoration:underline\">ssn</span><sup>FK-Person</sup>, <span style=\"text-decoration:underline\">eventID</span><sup>FK-Event</sup>}\n",
    " \n",
    " - PartOf = {<span style=\"text-decoration:underline\">ssn</span><sup>FK-Person</sup>, <span style=\"text-decoration:underline\">type</span><sup>FK-Recommend</sup>}"
   ]
  },
  {
   "cell_type": "markdown",
   "metadata": {},
   "source": [
    "INSERT statements: (1 cellfor each relation)"
   ]
  },
  {
   "cell_type": "code",
   "execution_count": 1,
   "metadata": {},
   "outputs": [],
   "source": [
    "%load_ext sql"
   ]
  },
  {
   "cell_type": "code",
   "execution_count": 2,
   "metadata": {},
   "outputs": [
    {
     "data": {
      "text/plain": [
       "'Connected: @library.db'"
      ]
     },
     "execution_count": 2,
     "metadata": {},
     "output_type": "execute_result"
    }
   ],
   "source": [
    "%sql sqlite:///library.db"
   ]
  },
  {
   "cell_type": "code",
   "execution_count": 3,
   "metadata": {},
   "outputs": [
    {
     "name": "stdout",
     "output_type": "stream",
     "text": [
      " * sqlite:///library.db\n",
      "10 rows affected.\n"
     ]
    },
    {
     "data": {
      "text/plain": [
       "[]"
      ]
     },
     "execution_count": 3,
     "metadata": {},
     "output_type": "execute_result"
    }
   ],
   "source": [
    "%%sql\n",
    "\n",
    "INSERT INTO Person (firstName, lastName, libNumber)\n",
    " VALUES\n",
    " (\"Barbara\",\"Vance\",162012159642),\n",
    "(\"Medge\",\"Hart\",168808036514),\n",
    "(\"Eric\",\"Gonzalez\",169105028261),\n",
    "(\"Yuri\",\"Beasley\",167907053073),\n",
    "(\"Nomlanga\",\"Dalton\",169907129481),\n",
    "(\"Quemby\",\"Acevedo\",162603189123),\n",
    "(\"Troy\",\"Gonzales\",162807013426),\n",
    "(\"Ruby\",\"Pittman\",169609033833),\n",
    "(\"Elmo\",\"Washington\",160301029831),\n",
    "(\"Libby\",\"Matthews\",168201180083);\n"
   ]
  },
  {
   "cell_type": "code",
   "execution_count": 4,
   "metadata": {},
   "outputs": [
    {
     "name": "stdout",
     "output_type": "stream",
     "text": [
      " * sqlite:///library.db\n",
      "10 rows affected.\n"
     ]
    },
    {
     "data": {
      "text/plain": [
       "[]"
      ]
     },
     "execution_count": 4,
     "metadata": {},
     "output_type": "execute_result"
    }
   ],
   "source": [
    "%%sql\n",
    "\n",
    "INSERT INTO ItemRecords (dueDate, available, itemID, penaltyFee) VALUES \n",
    "(\"01-30-20\",False,1600112090099,92),\n",
    "(\"09-11-20\",False,1624042939299,85),\n",
    "(\"05-14-21\",False,1698110325799,76),\n",
    "(\"05-23-21\",False,1699051881199,51),\n",
    "(\"08-23-19\",True,1611061342199,98),\n",
    "(\"09-29-19\",False,1688081360399,63),\n",
    "(\"08-23-20\",True,1629112590199,100),\n",
    "(\"08-03-20\",True,1635113073899,99),\n",
    "(\"04-25-20\",True,1652081306399,73),\n",
    "(\"07-15-20\",True,1642090316999,67);\n"
   ]
  },
  {
   "cell_type": "code",
   "execution_count": 5,
   "metadata": {},
   "outputs": [
    {
     "name": "stdout",
     "output_type": "stream",
     "text": [
      " * sqlite:///library.db\n",
      "10 rows affected.\n"
     ]
    },
    {
     "data": {
      "text/plain": [
       "[]"
      ]
     },
     "execution_count": 5,
     "metadata": {},
     "output_type": "execute_result"
    }
   ],
   "source": [
    "%%sql\n",
    "\n",
    "INSERT INTO CD (title, producer, director, itemID) \n",
    "VALUES \n",
    "(\"Aliquam\", \"Aimee Phelps\", \"Walter Acevedo\",1),\n",
    "(\"enim. Mauris\", \"Lara Mooney\", \"Michael Little\",2),\n",
    "(\"diam.\", \"Scarlet Ryan\", \"Alice Taylor\",3),\n",
    "(\"tellus lorem eu\", \"Ivor Sharpe\", \"Oliver Camacho\",4),\n",
    "(\"tellus faucibus\", \"Ora Rivas\", \"Aurelia Mcdowell\",5),\n",
    "(\"nec mauris blandit\", \"Martina Schmidt\", \"Henry Henderson\",6),\n",
    "(\"Nulla interdum.\", \"Brandon Blackwell\", \"Colin Sykes\",7),\n",
    "(\"turpis.\", \"Shaine Madden\", \"Kirestin Martinez\",8),\n",
    "(\"risus. Duis\", \"Marcia Guzman\", \"Axel Garrison\",9),\n",
    "(\"litora\", \"Keefe Herman\", \"Faith Moran\",10);\n"
   ]
  },
  {
   "cell_type": "code",
   "execution_count": 3,
   "metadata": {},
   "outputs": [
    {
     "name": "stdout",
     "output_type": "stream",
     "text": [
      " * sqlite:///library.db\n",
      "1 rows affected.\n"
     ]
    },
    {
     "data": {
      "text/plain": [
       "[]"
      ]
     },
     "execution_count": 3,
     "metadata": {},
     "output_type": "execute_result"
    }
   ],
   "source": [
    "%%sql\n",
    "\n",
    "INSERT INTO Book (title, author, publisher, itemID)\n",
    "VALUES \n",
    "(\"turpis. Aliquam\",\"Bevis Singleton\",\"erat\",11),\n",
    "(\"laoreet posuere,\",\"Quentin Head\",\"lorem, vehicula\",12),\n",
    "(\"pellentesque, tellus sem\",\"Boris Levy\",\"in,\",13),\n",
    "(\"dolor\",\"Shellie Harrell\",\"auctor\",14),\n",
    "(\"litora\",\"Colton Valencia\",\"posuere cubilia\",15),\n",
    "(\"magna.\",\"Aurelia Odonnell\",\"Suspendisse\",16),\n",
    "(\"Vivamus\",\"Quin Neal\",\"vel\",17),\n",
    "(\"Integer\",\"Urielle Atkinson\",\"Fusce\",18),\n",
    "(\"nulla\",\"Jared York\",\"purus,\",19),\n",
    "(\"leo, in\",\"Rylee Blake\",\"malesuada\",20);\n"
   ]
  },
  {
   "cell_type": "code",
   "execution_count": 7,
   "metadata": {},
   "outputs": [
    {
     "name": "stdout",
     "output_type": "stream",
     "text": [
      " * sqlite:///library.db\n",
      "10 rows affected.\n"
     ]
    },
    {
     "data": {
      "text/plain": [
       "[]"
      ]
     },
     "execution_count": 7,
     "metadata": {},
     "output_type": "execute_result"
    }
   ],
   "source": [
    "%%sql\n",
    "\n",
    "INSERT INTO Magazine (name, publisher, itemID)\n",
    "VALUES \n",
    "(\"Mauris\",\"sociis natoque\",21),\n",
    "(\"posuere at,\",\"nisi. Cum\",22),\n",
    "(\"montes, nascetur ridiculus\",\"Sed nunc\",23),\n",
    "(\"lobortis ultrices.\",\"a\",24),\n",
    "(\"taciti sociosqu\",\"diam. Proin\",25),\n",
    "(\"Vivamus molestie dapibus\",\"Phasellus in\",26),\n",
    "(\"ac risus.\",\"Nunc\",27),\n",
    "(\"orci quis lectus.\",\"neque\",28),\n",
    "(\"adipiscing non, luctus\",\"Ut\",29),\n",
    "(\"Mauris vel\",\"per\",30);\n"
   ]
  },
  {
   "cell_type": "code",
   "execution_count": 8,
   "metadata": {},
   "outputs": [
    {
     "name": "stdout",
     "output_type": "stream",
     "text": [
      " * sqlite:///library.db\n",
      "10 rows affected.\n"
     ]
    },
    {
     "data": {
      "text/plain": [
       "[]"
      ]
     },
     "execution_count": 8,
     "metadata": {},
     "output_type": "execute_result"
    }
   ],
   "source": [
    "%%sql\n",
    "\n",
    "INSERT INTO Borrow (libNumber, itemID)\n",
    "VALUES\n",
    "(162012159642, 21),\n",
    "(162012159642, 3),\n",
    "(169105028261, 5),\n",
    "(169609033833, 9),\n",
    "(168201180083, 11),\n",
    "(168201180083, 12),\n",
    "(162603189123, 26),\n",
    "(162807013426, 1),\n",
    "(162807013426, 17),\n",
    "(160301029831, 30);\n"
   ]
  },
  {
   "cell_type": "code",
   "execution_count": 9,
   "metadata": {},
   "outputs": [
    {
     "name": "stdout",
     "output_type": "stream",
     "text": [
      " * sqlite:///library.db\n",
      "10 rows affected.\n"
     ]
    },
    {
     "data": {
      "text/plain": [
       "[]"
      ]
     },
     "execution_count": 9,
     "metadata": {},
     "output_type": "execute_result"
    }
   ],
   "source": [
    "%%sql\n",
    "\n",
    "INSERT INTO Personnel (libNumber, ssn, salary)\n",
    "VALUES\n",
    "(162603189123, 1669081305599, 3500),\n",
    "(162807013426, 1601032514799, 4000),\n",
    "(169609033833, 1618082562999, 2000),\n",
    "(160301029831, 1688061507299, 4351),\n",
    "(168201180083, 1674081611899, 10000),\n",
    "(167907053073, 1603062503899, 2100),\n",
    "(169907129888, 1677080554999, 3250),\n",
    "(162603189999, 1668061725799, 2750),\n",
    "(162807013333, 1679032099499, 5600),\n",
    "(169609033111, 1662070978099, 5100);\n",
    "\n"
   ]
  },
  {
   "cell_type": "code",
   "execution_count": 10,
   "metadata": {},
   "outputs": [
    {
     "name": "stdout",
     "output_type": "stream",
     "text": [
      " * sqlite:///library.db\n",
      "10 rows affected.\n"
     ]
    },
    {
     "data": {
      "text/plain": [
       "[]"
      ]
     },
     "execution_count": 10,
     "metadata": {},
     "output_type": "execute_result"
    }
   ],
   "source": [
    "%%sql\n",
    "\n",
    "INSERT INTO PersonnelRecords (logID, messageLog)\n",
    "VALUES\n",
    "(1, \"closed 10 doors\"),\n",
    "(2, \"\"),\n",
    "(3, \"done nothing\"),\n",
    "(4, \"helped 25 cursomers I am on fire\"),\n",
    "(5, \"payed my peasants salary\"),\n",
    "(6, \"sorted books\"),\n",
    "(7, \"wiped the floor\"),\n",
    "(8, \"locked the library\"),\n",
    "(9, \"fixed PC\"),\n",
    "(10, \"wiped shelves\");\n"
   ]
  },
  {
   "cell_type": "code",
   "execution_count": 11,
   "metadata": {},
   "outputs": [
    {
     "name": "stdout",
     "output_type": "stream",
     "text": [
      " * sqlite:///library.db\n",
      "10 rows affected.\n"
     ]
    },
    {
     "data": {
      "text/plain": [
       "[]"
      ]
     },
     "execution_count": 11,
     "metadata": {},
     "output_type": "execute_result"
    }
   ],
   "source": [
    "%%sql\n",
    "\n",
    "INSERT INTO Log (logID, libNumber)\n",
    "VALUES\n",
    "(1, 162603189123),\n",
    "(2, 162807013426),\n",
    "(3, 169609033833),\n",
    "(4, 160301029831),\n",
    "(5, 168201180083),\n",
    "(6, 167907053073),\n",
    "(7, 169907129888),\n",
    "(8, 162603189999),\n",
    "(9, 162807013333),\n",
    "(10, 169609033111);\n"
   ]
  },
  {
   "cell_type": "code",
   "execution_count": 12,
   "metadata": {},
   "outputs": [
    {
     "name": "stdout",
     "output_type": "stream",
     "text": [
      " * sqlite:///library.db\n",
      "10 rows affected.\n"
     ]
    },
    {
     "data": {
      "text/plain": [
       "[]"
      ]
     },
     "execution_count": 12,
     "metadata": {},
     "output_type": "execute_result"
    }
   ],
   "source": [
    "%%sql\n",
    "\n",
    "INSERT INTO BookClub (eventID, clubName)\n",
    "VALUES\n",
    "(1, \"Sci-Fi\"),\n",
    "(2,  \"Best boyz\"),\n",
    "(3,  \"Canada\"),\n",
    "(4,  \"Nothing\"),\n",
    "(5, \"CMPT 354\"),\n",
    "(6, \"SFU Students\"),\n",
    "(7,  \"Biology-club\"),\n",
    "(8, \"Conquerors\"),\n",
    "(9,  \"Atheists\"),\n",
    "(10,  \"History\");\n"
   ]
  },
  {
   "cell_type": "code",
   "execution_count": 13,
   "metadata": {},
   "outputs": [
    {
     "name": "stdout",
     "output_type": "stream",
     "text": [
      " * sqlite:///library.db\n",
      "10 rows affected.\n"
     ]
    },
    {
     "data": {
      "text/plain": [
       "[]"
      ]
     },
     "execution_count": 13,
     "metadata": {},
     "output_type": "execute_result"
    }
   ],
   "source": [
    "%%sql\n",
    "\n",
    "INSERT INTO ArtShow (eventID, name)\n",
    "VALUES\n",
    "(11, \"Leonardo da Vinci show\"),\n",
    "(12,  \"Claude Monet show\"),\n",
    "(13,  \"michelangelo\"),\n",
    "(14,  \"Repin\"),\n",
    "(15, \"Picasso\"),\n",
    "(16, \"Rembrant\"),\n",
    "(17,  \"Shishkin\"),\n",
    "(18, \"Vasnecov\"),\n",
    "(19,  \"vincent van gogh\"),\n",
    "(20,  \"Edgar Degas\");\n"
   ]
  },
  {
   "cell_type": "code",
   "execution_count": 14,
   "metadata": {},
   "outputs": [
    {
     "name": "stdout",
     "output_type": "stream",
     "text": [
      " * sqlite:///library.db\n",
      "10 rows affected.\n"
     ]
    },
    {
     "data": {
      "text/plain": [
       "[]"
      ]
     },
     "execution_count": 14,
     "metadata": {},
     "output_type": "execute_result"
    }
   ],
   "source": [
    "%%sql\n",
    "\n",
    "INSERT INTO SocialRoom (roomNumber, roomCapacity)\n",
    "VALUES\n",
    "(101, 50),\n",
    "(102, 30),\n",
    "(103, 20),\n",
    "(104, 70),\n",
    "(201, 400),\n",
    "(301, 340),\n",
    "(401, 400),\n",
    "(501, 51),\n",
    "(611, 145),\n",
    "(541, 140);\n"
   ]
  },
  {
   "cell_type": "code",
   "execution_count": 15,
   "metadata": {},
   "outputs": [
    {
     "name": "stdout",
     "output_type": "stream",
     "text": [
      " * sqlite:///library.db\n",
      "10 rows affected.\n"
     ]
    },
    {
     "data": {
      "text/plain": [
       "[]"
      ]
     },
     "execution_count": 15,
     "metadata": {},
     "output_type": "execute_result"
    }
   ],
   "source": [
    "%%sql\n",
    "\n",
    "INSERT INTO Held (roomNumber, eventID)\n",
    "VALUES\n",
    "(101, 11),\n",
    "(102, 14),\n",
    "(103, 19),\n",
    "(104, 9),\n",
    "(201, 4),\n",
    "(301, 15),\n",
    "(401, 18),\n",
    "(501, 1),\n",
    "(611, 5),\n",
    "(541, 6);\n"
   ]
  },
  {
   "cell_type": "code",
   "execution_count": 16,
   "metadata": {},
   "outputs": [
    {
     "name": "stdout",
     "output_type": "stream",
     "text": [
      " * sqlite:///library.db\n",
      "10 rows affected.\n"
     ]
    },
    {
     "data": {
      "text/plain": [
       "[]"
      ]
     },
     "execution_count": 16,
     "metadata": {},
     "output_type": "execute_result"
    }
   ],
   "source": [
    "%%sql\n",
    "\n",
    "INSERT INTO Attend (libNumber, eventID)\n",
    "VALUES \n",
    "(169105028261, 11),\n",
    "(167907053073, 19),\n",
    "(169907129481, 20),\n",
    "(162603189123, 14),\n",
    "(162807013426, 9),\n",
    "(169609033833, 15),\n",
    "(160301029831, 17),\n",
    "(168201180083, 1),\n",
    "(169907129888, 4),\n",
    "(162603189999, 6);\n"
   ]
  },
  {
   "cell_type": "code",
   "execution_count": 17,
   "metadata": {},
   "outputs": [
    {
     "name": "stdout",
     "output_type": "stream",
     "text": [
      " * sqlite:///library.db\n",
      "10 rows affected.\n"
     ]
    },
    {
     "data": {
      "text/plain": [
       "[]"
      ]
     },
     "execution_count": 17,
     "metadata": {},
     "output_type": "execute_result"
    }
   ],
   "source": [
    "%%sql\n",
    "\n",
    "INSERT INTO AUDIENCE (audienceID, audienceName, audienceDescription)\n",
    "VALUES\n",
    "(1, \"da best\", \"we are simply the best\"),\n",
    "(2, \"da worst\", \"unfortunately worst\"),\n",
    "(3, \"CMPT 354\", \"Better the da best\"),\n",
    "(4, \"Markers of MP\", \"Better than anyone in here\"),\n",
    "(5, \"Sci-Fi\", \"love sci-fi stuff\"),\n",
    "(6, \"History\", \"love history related books\"),\n",
    "(7, \"Biography\", \"love biography books\"),\n",
    "(8, \"Fiction\", \"love Fiction books\"),\n",
    "(9, \"Cooks\", \"cooking tutorial books\"),\n",
    "(10, \"Children\", \"love books for children\");\n"
   ]
  },
  {
   "cell_type": "code",
   "execution_count": 18,
   "metadata": {},
   "outputs": [
    {
     "name": "stdout",
     "output_type": "stream",
     "text": [
      " * sqlite:///library.db\n",
      "10 rows affected.\n"
     ]
    },
    {
     "data": {
      "text/plain": [
       "[]"
      ]
     },
     "execution_count": 18,
     "metadata": {},
     "output_type": "execute_result"
    }
   ],
   "source": [
    "%%sql\n",
    "\n",
    "INSERT INTO PartOf (libNumber, audienceID)\n",
    "VALUES\n",
    "(169105028261, 1),\n",
    "(167907053073, 1),\n",
    "(169907129481, 4),\n",
    "(162603189123, 4),\n",
    "(162807013426, 5),\n",
    "(169609033833, 6),\n",
    "(160301029831, 7),\n",
    "(168201180083, 3),\n",
    "(169907129888, 10),\n",
    "(162603189999, 8);\n"
   ]
  },
  {
   "cell_type": "code",
   "execution_count": 19,
   "metadata": {},
   "outputs": [
    {
     "name": "stdout",
     "output_type": "stream",
     "text": [
      " * sqlite:///library.db\n",
      "10 rows affected.\n"
     ]
    },
    {
     "data": {
      "text/plain": [
       "[]"
      ]
     },
     "execution_count": 19,
     "metadata": {},
     "output_type": "execute_result"
    }
   ],
   "source": [
    "%%sql\n",
    "\n",
    "INSERT INTO Recommend (audienceID, eventID)\n",
    "VALUES\n",
    "(2, 1),\n",
    "(4, 19),\n",
    "(7, 10),\n",
    "(5, 1),\n",
    "(1, 1),\n",
    "(6, 20),\n",
    "(6, 11),\n",
    "(3, 11),\n",
    "(1, 11),\n",
    "(1, 14);\n"
   ]
  },
  {
   "cell_type": "code",
   "execution_count": null,
   "metadata": {},
   "outputs": [],
   "source": []
  },
  {
   "cell_type": "code",
   "execution_count": null,
   "metadata": {},
   "outputs": [],
   "source": []
  },
  {
   "cell_type": "code",
   "execution_count": null,
   "metadata": {},
   "outputs": [],
   "source": []
  }
 ],
 "metadata": {
  "kernelspec": {
   "display_name": "Python 3",
   "language": "python",
   "name": "python3"
  },
  "language_info": {
   "codemirror_mode": {
    "name": "ipython",
    "version": 3
   },
   "file_extension": ".py",
   "mimetype": "text/x-python",
   "name": "python",
   "nbconvert_exporter": "python",
   "pygments_lexer": "ipython3",
   "version": "3.7.4"
  }
 },
 "nbformat": 4,
 "nbformat_minor": 2
}

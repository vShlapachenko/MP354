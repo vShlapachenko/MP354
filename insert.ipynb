{
 "cells": [
  {
   "cell_type": "markdown",
   "metadata": {},
   "source": [
    "library.db schema: <br />\n",
    "\n",
    "Entity Sets <br />\n",
    "\n",
    " - Person = {<span style=\"text-decoration:underline\">libNumber</span>, ssn, firstName, LastName}\n",
    "  \n",
    " - Personnel = {<span style=\"text-decoration:underline\">libNumber</span><sup>FK-Person</sup>, salary}\n",
    "  \n",
    " - PersonnelRecords = {<span style=\"text-decoration:underline\">logID</span>, messageLog}    \n",
    " \n",
    " - Event = {<span style=\"text-decoration:underline\">eventID</span>, datetime}\n",
    "\n",
    " - Audience = {<span style=\"text-decoration:underline\">audienceID</span>, audienceName}\n",
    " \n",
    " - SocialRoom = {<span style=\"text-decoration:underline\">roomNumber</span>. roomCapacity}\n",
    "\n",
    " - BookClub = {<span style=\"text-decoration:underline\">eventID</span><sup>FK-Event</sup>, clubName}\n",
    " \n",
    " - ArtShow = {<span style=\"text-decoration:underline\">eventID</span><sup>FK-Event</sup>, name}\n",
    "\n",
    " - ItemRecords = {<span style=\"text-decoration:underline\">itemID</span>, penaltyFee, dueDate, available}\n",
    "        \n",
    " - Book = {<span style=\"text-decoration:underline\">itemID</span><sup>FK-ItemRecords</sup>, title, author, publisher}\n",
    "    \n",
    " - CD = {<span style=\"text-decoration:underline\">itemID</span><sup>FK-ItemRecords</sup>, title, producer, director}\n",
    "    \n",
    " - Magazine = {<span style=\"text-decoration:underline\">itemID</span><sup>FK-ItemRecords</sup>, name, publisher}\n",
    "  \n",
    "Relationships <br />\n",
    "\n",
    " - Borrows = {<span style=\"text-decoration:underline\">libNumber</span><sup>FK-Person</sup>, <span style=\"text-decoration:underline\">itemID</span><sup>FK-ItemRecords</sup>}\n",
    "\n",
    " - Log = {<span style=\"text-decoration:underline\">employeeID</span><sup>FK-Oersonnel</sup>, <span style=\"text-decoration:underline\">logID</span><sup>FK-PersonnelRecords</sup>}\n",
    " \n",
    " - Orgabnize = {<span style=\"text-decoration:underline\">eventID</span><sup>FK-Event</sup>, <span style=\"text-decoration:underline\">libNumber</span><sup>FK-Person</sup>}\n",
    " \n",
    " - Recommend = {<span style=\"text-decoration:underline\">type</span><sup>FK-Audience</sup>, <span style=\"text-decoration:underline\">eventID</span><sup>FK-Event</sup>}\n",
    " \n",
    " - Held = {<span style=\"text-decoration:underline\">eventID</span><sup>FK-Event</sup>, <span style=\"text-decoration:underline\">roomNumber</span><sup>FK-SocialRoom</sup>}\n",
    " \n",
    " - Attend = {<span style=\"text-decoration:underline\">ssn</span><sup>FK-Person</sup>, <span style=\"text-decoration:underline\">eventID</span><sup>FK-Event</sup>}\n",
    " \n",
    " - PartOf = {<span style=\"text-decoration:underline\">ssn</span><sup>FK-Person</sup>, <span style=\"text-decoration:underline\">type</span><sup>FK-Recommend</sup>}"
   ]
  },
  {
   "cell_type": "markdown",
   "metadata": {},
   "source": [
    "INSERT statements: (1 cellfor each relation)"
   ]
  },
  {
   "cell_type": "code",
   "execution_count": null,
   "metadata": {},
   "outputs": [],
   "source": []
  },
  {
   "cell_type": "code",
   "execution_count": null,
   "metadata": {},
   "outputs": [],
   "source": []
  },
  {
   "cell_type": "code",
   "execution_count": null,
   "metadata": {},
   "outputs": [],
   "source": []
  },
  {
   "cell_type": "code",
   "execution_count": null,
   "metadata": {},
   "outputs": [],
   "source": []
  },
  {
   "cell_type": "code",
   "execution_count": null,
   "metadata": {},
   "outputs": [],
   "source": []
  },
  {
   "cell_type": "code",
   "execution_count": null,
   "metadata": {},
   "outputs": [],
   "source": []
  }
 ],
 "metadata": {
  "kernelspec": {
   "display_name": "Python 3",
   "language": "python",
   "name": "python3"
  },
  "language_info": {
   "codemirror_mode": {
    "name": "ipython",
    "version": 3
   },
   "file_extension": ".py",
   "mimetype": "text/x-python",
   "name": "python",
   "nbconvert_exporter": "python",
   "pygments_lexer": "ipython3",
   "version": "3.7.3"
  }
 },
 "nbformat": 4,
 "nbformat_minor": 2
}

{
 "cells": [
  {
   "cell_type": "markdown",
   "metadata": {},
   "source": [
    "library.db schema: <br />\n",
    "\n",
    "Entity Sets <br />\n",
    "\n",
    " - Person = {<span style=\"text-decoration:underline\">libNumber</span>, firstName, LastName}\n",
    "  \n",
    " - Personnel = {<span style=\"text-decoration:underline\">libNumber</span><sup>FK-Person</sup>, ssn, salary}\n",
    "  \n",
    " - PersonnelRecords = {<span style=\"text-decoration:underline\">logID</span>, messageLog}    \n",
    " \n",
    " - Event = {<span style=\"text-decoration:underline\">eventID</span>, datetime}\n",
    "\n",
    " - Audience = {<span style=\"text-decoration:underline\">audienceID</span>, audienceName, audienceDescription}\n",
    " \n",
    " - SocialRoom = {<span style=\"text-decoration:underline\">roomNumber</span>. roomCapacity}\n",
    "\n",
    " - BookClub = {<span style=\"text-decoration:underline\">eventID</span><sup>FK-Event</sup>, clubName}\n",
    " \n",
    " - ArtShow = {<span style=\"text-decoration:underline\">eventID</span><sup>FK-Event</sup>, name}\n",
    "\n",
    " - ItemRecords = {<span style=\"text-decoration:underline\">itemID</span>, penaltyFee, dueDate, available}\n",
    "        \n",
    " - Book = {<span style=\"text-decoration:underline\">itemID</span><sup>FK-ItemRecords</sup>, title, author, publisher}\n",
    "    \n",
    " - CD = {<span style=\"text-decoration:underline\">itemID</span><sup>FK-ItemRecords</sup>, title, producer, director}\n",
    "    \n",
    " - Magazine = {<span style=\"text-decoration:underline\">itemID</span><sup>FK-ItemRecords</sup>, name, publisher}\n",
    "  \n",
    "Relationships <br />\n",
    "\n",
    " - Borrow = {<span style=\"text-decoration:underline\">libNumber</span><sup>FK-Person</sup>, <span style=\"text-decoration:underline\">itemID</span><sup>FK-ItemRecords</sup>}\n",
    "\n",
    " - Log = {<span style=\"text-decoration:underline\">libNumber</span><sup>FK-Oersonnel</sup>, <span style=\"text-decoration:underline\">logID</span><sup>FK-PersonnelRecords</sup>}\n",
    " \n",
    " - Organize = {<span style=\"text-decoration:underline\">eventID</span><sup>FK-Event</sup>, <span style=\"text-decoration:underline\">libNumber</span><sup>FK-Person</sup>}\n",
    " \n",
    " - Recommend = {<span style=\"text-decoration:underline\">audienceID</span><sup>FK-Audience</sup>, <span style=\"text-decoration:underline\">eventID</span><sup>FK-Event</sup>}\n",
    " \n",
    " - Held = {<span style=\"text-decoration:underline\">eventID</span><sup>FK-Event</sup>, <span style=\"text-decoration:underline\">roomNumber</span><sup>FK-SocialRoom</sup>}\n",
    " \n",
    " - Attend = {<span style=\"text-decoration:underline\">libNumber</span><sup>FK-Person</sup>, <span style=\"text-decoration:underline\">eventID</span><sup>FK-Event</sup>}\n",
    " \n",
    " - PartOf = {<span style=\"text-decoration:underline\">libNumber</span><sup>FK-Person</sup>, <span style=\"text-decoration:underline\">audienceID</span><sup>FK-Recommend</sup>}\n",
    " \n",
    " \n"
   ]
  },
  {
   "cell_type": "markdown",
   "metadata": {},
   "source": [
    "Create library.db"
   ]
  },
  {
   "cell_type": "code",
   "execution_count": 2,
   "metadata": {},
   "outputs": [],
   "source": [
    "%load_ext sql"
   ]
  },
  {
   "cell_type": "code",
   "execution_count": 3,
   "metadata": {},
   "outputs": [
    {
     "data": {
      "text/plain": [
       "'Connected: @library.db'"
      ]
     },
     "execution_count": 3,
     "metadata": {},
     "output_type": "execute_result"
    }
   ],
   "source": [
    "%sql sqlite:///library.db"
   ]
  },
  {
   "cell_type": "markdown",
   "metadata": {},
   "source": [
    "CREATE statements: (1 cellfor each table and/or trigger)"
   ]
  },
  {
   "cell_type": "markdown",
   "metadata": {},
   "source": [
    "Entity sets"
   ]
  },
  {
   "cell_type": "code",
   "execution_count": 3,
   "metadata": {},
   "outputs": [
    {
     "name": "stdout",
     "output_type": "stream",
     "text": [
      " * sqlite:///library.db\n",
      "Done.\n"
     ]
    },
    {
     "data": {
      "text/plain": [
       "[]"
      ]
     },
     "execution_count": 3,
     "metadata": {},
     "output_type": "execute_result"
    }
   ],
   "source": [
    "%%sql\n",
    "\n",
    "CREATE TABLE IF NOT EXISTS Person (\n",
    "    libNumber    INTEGER,\n",
    "    firstName    CHAR(30),\n",
    "    lastName      CHAR(30),\n",
    "    PRIMARY KEY (libNumber),\n",
    "        CHECK(libNumber >= 0)\n",
    ");"
   ]
  },
  {
   "cell_type": "code",
   "execution_count": 4,
   "metadata": {},
   "outputs": [
    {
     "name": "stdout",
     "output_type": "stream",
     "text": [
      " * sqlite:///library.db\n",
      "Done.\n"
     ]
    },
    {
     "data": {
      "text/plain": [
       "[]"
      ]
     },
     "execution_count": 4,
     "metadata": {},
     "output_type": "execute_result"
    }
   ],
   "source": [
    "%%sql\n",
    "\n",
    "CREATE TABLE IF NOT EXISTS Personnel (\n",
    "    libNumber    INTEGER,\n",
    "    salary       REAL,\n",
    "    ssn          INTEGER,\n",
    "    PRIMARY KEY (libNumber),\n",
    "    FOREIGN KEY (libNumber) REFERENCES Person\n",
    ");"
   ]
  },
  {
   "cell_type": "code",
   "execution_count": 5,
   "metadata": {},
   "outputs": [
    {
     "name": "stdout",
     "output_type": "stream",
     "text": [
      " * sqlite:///library.db\n",
      "Done.\n"
     ]
    },
    {
     "data": {
      "text/plain": [
       "[]"
      ]
     },
     "execution_count": 5,
     "metadata": {},
     "output_type": "execute_result"
    }
   ],
   "source": [
    "%%sql\n",
    "\n",
    "CREATE TABLE IF NOT EXISTS PersonnelRecords (\n",
    "    logID         INTEGER,\n",
    "    messageLog    VARCHAR(50),\n",
    "    PRIMARY KEY (logID)\n",
    ");"
   ]
  },
  {
   "cell_type": "code",
   "execution_count": 6,
   "metadata": {},
   "outputs": [
    {
     "name": "stdout",
     "output_type": "stream",
     "text": [
      " * sqlite:///library.db\n",
      "Done.\n"
     ]
    },
    {
     "data": {
      "text/plain": [
       "[]"
      ]
     },
     "execution_count": 6,
     "metadata": {},
     "output_type": "execute_result"
    }
   ],
   "source": [
    "%%sql\n",
    "\n",
    "CREATE TABLE IF NOT EXISTS Event (\n",
    "    eventID     INTEGER,\n",
    "    datetime    DATE,\n",
    "    PRIMARY KEY (eventID),\n",
    "        CHECK(eventID >= 0)\n",
    ");"
   ]
  },
  {
   "cell_type": "code",
   "execution_count": 7,
   "metadata": {},
   "outputs": [
    {
     "name": "stdout",
     "output_type": "stream",
     "text": [
      " * sqlite:///library.db\n",
      "Done.\n"
     ]
    },
    {
     "data": {
      "text/plain": [
       "[]"
      ]
     },
     "execution_count": 7,
     "metadata": {},
     "output_type": "execute_result"
    }
   ],
   "source": [
    "%%sql\n",
    "\n",
    "CREATE TABLE IF NOT EXISTS Audience (\n",
    "    audienceID            INTEGER,\n",
    "    audienceName          CHAR(30),\n",
    "    audienceDescription   VARCHAR(50),\n",
    "    PRIMARY KEY (audienceID)\n",
    "        CHECK(audienceID >= 0)\n",
    ");"
   ]
  },
  {
   "cell_type": "code",
   "execution_count": 8,
   "metadata": {},
   "outputs": [
    {
     "name": "stdout",
     "output_type": "stream",
     "text": [
      " * sqlite:///library.db\n",
      "Done.\n"
     ]
    },
    {
     "data": {
      "text/plain": [
       "[]"
      ]
     },
     "execution_count": 8,
     "metadata": {},
     "output_type": "execute_result"
    }
   ],
   "source": [
    "%%sql\n",
    "\n",
    "CREATE TABLE IF NOT EXISTS SocialRoom (\n",
    "    roomNumber      INTEGER,\n",
    "    roomCapacity    INTEGER,\n",
    "    PRIMARY KEY (roomNumber)\n",
    ");"
   ]
  },
  {
   "cell_type": "code",
   "execution_count": 9,
   "metadata": {},
   "outputs": [
    {
     "name": "stdout",
     "output_type": "stream",
     "text": [
      " * sqlite:///library.db\n",
      "Done.\n"
     ]
    },
    {
     "data": {
      "text/plain": [
       "[]"
      ]
     },
     "execution_count": 9,
     "metadata": {},
     "output_type": "execute_result"
    }
   ],
   "source": [
    "%%sql\n",
    "\n",
    "CREATE TABLE IF NOT EXISTS ItemRecords (\n",
    "    itemID        INTEGER,\n",
    "    penaltyFee    REAL,\n",
    "    dueDate       DATE,\n",
    "    available     BOOLEAN,\n",
    "    PRIMARY KEY (itemID)\n",
    "        CHECK(itemID >= 0)\n",
    ");"
   ]
  },
  {
   "cell_type": "markdown",
   "metadata": {},
   "source": [
    "types of events"
   ]
  },
  {
   "cell_type": "code",
   "execution_count": 10,
   "metadata": {},
   "outputs": [
    {
     "name": "stdout",
     "output_type": "stream",
     "text": [
      " * sqlite:///library.db\n",
      "Done.\n"
     ]
    },
    {
     "data": {
      "text/plain": [
       "[]"
      ]
     },
     "execution_count": 10,
     "metadata": {},
     "output_type": "execute_result"
    }
   ],
   "source": [
    "%%sql\n",
    "\n",
    "CREATE TABLE IF NOT EXISTS BookClub (\n",
    "    eventID     INTEGER,\n",
    "    clubName    CHAR(30),\n",
    "    PRIMARY KEY (eventID),\n",
    "    FOREIGN KEY (eventID) REFERENCES Event\n",
    ");"
   ]
  },
  {
   "cell_type": "code",
   "execution_count": 11,
   "metadata": {},
   "outputs": [
    {
     "name": "stdout",
     "output_type": "stream",
     "text": [
      " * sqlite:///library.db\n",
      "Done.\n"
     ]
    },
    {
     "data": {
      "text/plain": [
       "[]"
      ]
     },
     "execution_count": 11,
     "metadata": {},
     "output_type": "execute_result"
    }
   ],
   "source": [
    "%%sql\n",
    "\n",
    "CREATE TABLE IF NOT EXISTS ArtShow (\n",
    "    eventID    INTEGER,\n",
    "    name       CHAR(30),\n",
    "    PRIMARY KEY (eventID),\n",
    "    FOREIGN KEY (eventID) REFERENCES Event\n",
    ");"
   ]
  },
  {
   "cell_type": "markdown",
   "metadata": {},
   "source": [
    "types of items"
   ]
  },
  {
   "cell_type": "code",
   "execution_count": 12,
   "metadata": {},
   "outputs": [
    {
     "name": "stdout",
     "output_type": "stream",
     "text": [
      " * sqlite:///library.db\n",
      "Done.\n"
     ]
    },
    {
     "data": {
      "text/plain": [
       "[]"
      ]
     },
     "execution_count": 12,
     "metadata": {},
     "output_type": "execute_result"
    }
   ],
   "source": [
    "%%sql\n",
    "\n",
    "CREATE TABLE IF NOT EXISTS Book (\n",
    "    itemID       INTEGER,\n",
    "    title        CHAR(30),\n",
    "    author       CHAR(30),\n",
    "    publisher    CHAR(30),\n",
    "    PRIMARY KEY (itemID),\n",
    "    FOREIGN KEY (itemID) REFERENCES ItemRecords\n",
    ");"
   ]
  },
  {
   "cell_type": "code",
   "execution_count": 13,
   "metadata": {},
   "outputs": [
    {
     "name": "stdout",
     "output_type": "stream",
     "text": [
      " * sqlite:///library.db\n",
      "Done.\n"
     ]
    },
    {
     "data": {
      "text/plain": [
       "[]"
      ]
     },
     "execution_count": 13,
     "metadata": {},
     "output_type": "execute_result"
    }
   ],
   "source": [
    "%%sql\n",
    "\n",
    "CREATE TABLE IF NOT EXISTS CD (\n",
    "    itemID      INTEGER,\n",
    "    title       CHAR(30),\n",
    "    producer    CHAR(30),\n",
    "    director    CHAR(30),\n",
    "    PRIMARY KEY (itemID),\n",
    "    FOREIGN KEY (itemID) REFERENCES ItemRecords\n",
    ");"
   ]
  },
  {
   "cell_type": "code",
   "execution_count": 14,
   "metadata": {},
   "outputs": [
    {
     "name": "stdout",
     "output_type": "stream",
     "text": [
      " * sqlite:///library.db\n",
      "Done.\n"
     ]
    },
    {
     "data": {
      "text/plain": [
       "[]"
      ]
     },
     "execution_count": 14,
     "metadata": {},
     "output_type": "execute_result"
    }
   ],
   "source": [
    "%%sql\n",
    "\n",
    "CREATE TABLE IF NOT EXISTS Magazine (\n",
    "    itemID       INTEGER,\n",
    "    name         CHAR(30),\n",
    "    publisher    CHAR(30) ,\n",
    "    PRIMARY KEY (itemID),\n",
    "    FOREIGN KEY (itemID) REFERENCES ItemRecords\n",
    ");"
   ]
  },
  {
   "cell_type": "markdown",
   "metadata": {},
   "source": [
    "Relationships"
   ]
  },
  {
   "cell_type": "code",
   "execution_count": 15,
   "metadata": {},
   "outputs": [
    {
     "name": "stdout",
     "output_type": "stream",
     "text": [
      " * sqlite:///library.db\n",
      "Done.\n"
     ]
    },
    {
     "data": {
      "text/plain": [
       "[]"
      ]
     },
     "execution_count": 15,
     "metadata": {},
     "output_type": "execute_result"
    }
   ],
   "source": [
    "%%sql\n",
    "\n",
    "CREATE TABLE IF NOT EXISTS Borrow (\n",
    "    libNumber    INTEGER,\n",
    "    itemID       INTEGER,\n",
    "    PRIMARY KEY (libNumber, itemID),\n",
    "    FOREIGN KEY (libNumber) REFERENCES Person,\n",
    "    FOREIGN KEY (itemID) REFERENCES ItemRecords\n",
    ");"
   ]
  },
  {
   "cell_type": "code",
   "execution_count": 16,
   "metadata": {},
   "outputs": [
    {
     "name": "stdout",
     "output_type": "stream",
     "text": [
      " * sqlite:///library.db\n",
      "Done.\n"
     ]
    },
    {
     "data": {
      "text/plain": [
       "[]"
      ]
     },
     "execution_count": 16,
     "metadata": {},
     "output_type": "execute_result"
    }
   ],
   "source": [
    "%%sql\n",
    "\n",
    "CREATE TABLE IF NOT EXISTS Log (\n",
    "    libNumber    INTEGER,\n",
    "    logID        INTEGER,\n",
    "    PRIMARY KEY (libNumber, logID),\n",
    "    FOREIGN KEY (libNumber) REFERENCES Personnel,\n",
    "    FOREIGN KEY (logID) REFERENCES PersonnelRecords\n",
    ");"
   ]
  },
  {
   "cell_type": "code",
   "execution_count": 17,
   "metadata": {},
   "outputs": [
    {
     "name": "stdout",
     "output_type": "stream",
     "text": [
      " * sqlite:///library.db\n",
      "Done.\n"
     ]
    },
    {
     "data": {
      "text/plain": [
       "[]"
      ]
     },
     "execution_count": 17,
     "metadata": {},
     "output_type": "execute_result"
    }
   ],
   "source": [
    "%%sql\n",
    "\n",
    "CREATE TABLE IF NOT EXISTS Organize (\n",
    "    eventID      INTEGER,\n",
    "    libNumber    INTEGER,\n",
    "    PRIMARY KEY (eventID, libNumber),\n",
    "    FOREIGN KEY (libNumber) REFERENCES Person,\n",
    "    FOREIGN KEY (eventID) REFERENCES Event\n",
    ");"
   ]
  },
  {
   "cell_type": "code",
   "execution_count": 18,
   "metadata": {},
   "outputs": [
    {
     "name": "stdout",
     "output_type": "stream",
     "text": [
      " * sqlite:///library.db\n",
      "Done.\n"
     ]
    },
    {
     "data": {
      "text/plain": [
       "[]"
      ]
     },
     "execution_count": 18,
     "metadata": {},
     "output_type": "execute_result"
    }
   ],
   "source": [
    "%%sql\n",
    "\n",
    "CREATE TABLE IF NOT EXISTS Recommend (\n",
    "    audienceID    INTEGER,\n",
    "    eventID       INTEGER,\n",
    "    PRIMARY KEY (audienceID, eventID),\n",
    "    FOREIGN KEY (audienceID) REFERENCES Audience,\n",
    "    FOREIGN KEY (eventID) REFERENCES Event\n",
    ");"
   ]
  },
  {
   "cell_type": "code",
   "execution_count": 19,
   "metadata": {},
   "outputs": [
    {
     "name": "stdout",
     "output_type": "stream",
     "text": [
      " * sqlite:///library.db\n",
      "Done.\n"
     ]
    },
    {
     "data": {
      "text/plain": [
       "[]"
      ]
     },
     "execution_count": 19,
     "metadata": {},
     "output_type": "execute_result"
    }
   ],
   "source": [
    "%%sql\n",
    "\n",
    "CREATE TABLE IF NOT EXISTS Held (\n",
    "    eventID       INTEGER,\n",
    "    roomNumber    INTEGER,\n",
    "    PRIMARY KEY (eventID, roomNumber),\n",
    "    FOREIGN KEY (eventID) REFERENCES Event,\n",
    "    FOREIGN KEY (roomNumber) REFERENCES SocialRoom\n",
    ");"
   ]
  },
  {
   "cell_type": "code",
   "execution_count": 20,
   "metadata": {},
   "outputs": [
    {
     "name": "stdout",
     "output_type": "stream",
     "text": [
      " * sqlite:///library.db\n",
      "Done.\n"
     ]
    },
    {
     "data": {
      "text/plain": [
       "[]"
      ]
     },
     "execution_count": 20,
     "metadata": {},
     "output_type": "execute_result"
    }
   ],
   "source": [
    "%%sql\n",
    "\n",
    "CREATE TABLE IF NOT EXISTS Attend (\n",
    "    libNumber    INTEGER,\n",
    "    eventID      INTEGER,\n",
    "    PRIMARY KEY (libNumber, eventID),\n",
    "    FOREIGN KEY (libNumber) REFERENCES Person,\n",
    "    FOREIGN KEY (eventID) REFERENCES Event\n",
    ");"
   ]
  },
  {
   "cell_type": "code",
   "execution_count": 21,
   "metadata": {},
   "outputs": [
    {
     "name": "stdout",
     "output_type": "stream",
     "text": [
      " * sqlite:///library.db\n",
      "Done.\n"
     ]
    },
    {
     "data": {
      "text/plain": [
       "[]"
      ]
     },
     "execution_count": 21,
     "metadata": {},
     "output_type": "execute_result"
    }
   ],
   "source": [
    "%%sql\n",
    "\n",
    "CREATE TABLE IF NOT EXISTS PartOF (\n",
    "    libNumber     INTEGER,\n",
    "    audienceID    INTEGER,\n",
    "    PRIMARY KEY (libNumber, audienceID),\n",
    "    FOREIGN KEY (libNumber) REFERENCES Person,\n",
    "    FOREIGN KEY (audienceID) REFERENCES Audience\n",
    ");"
   ]
  },
  {
   "cell_type": "markdown",
   "metadata": {},
   "source": [
    "triggers"
   ]
  },
  {
   "cell_type": "code",
   "execution_count": 4,
   "metadata": {},
   "outputs": [
    {
     "name": "stdout",
     "output_type": "stream",
     "text": [
      " * sqlite:///library.db\n",
      "Done.\n",
      "Done.\n"
     ]
    },
    {
     "data": {
      "text/plain": [
       "[]"
      ]
     },
     "execution_count": 4,
     "metadata": {},
     "output_type": "execute_result"
    }
   ],
   "source": [
    "%%sql\n",
    "\n",
    "CREATE TRIGGER borrowDelete\n",
    "AFTER DELETE ON Borrow\n",
    "FOR EACH ROW\n",
    "BEGIN \n",
    "    UPDATE ItemRecords\n",
    "    SET dueDate = null, available = True, penaltyFee = 0\n",
    "    WHERE OLD.itemID = ItemRecords.itemID;\n",
    "END"
   ]
  },
  {
   "cell_type": "code",
   "execution_count": 4,
   "metadata": {},
   "outputs": [
    {
     "name": "stdout",
     "output_type": "stream",
     "text": [
      " * sqlite:///library.db\n",
      "Done.\n"
     ]
    },
    {
     "data": {
      "text/plain": [
       "[]"
      ]
     },
     "execution_count": 4,
     "metadata": {},
     "output_type": "execute_result"
    }
   ],
   "source": [
    "%%sql\n",
    "\n",
    "CREATE TRIGGER addBook\n",
    "BEFORE INSERT ON Book\n",
    "BEGIN\n",
    "    INSERT INTO ItemRecords (itemID, penaltyFee, dueDate, available)\n",
    "    VALUES (new.itemID, 0, null, True);\n",
    "END;"
   ]
  },
  {
   "cell_type": "code",
   "execution_count": 5,
   "metadata": {},
   "outputs": [
    {
     "name": "stdout",
     "output_type": "stream",
     "text": [
      " * sqlite:///library.db\n",
      "Done.\n"
     ]
    },
    {
     "data": {
      "text/plain": [
       "[]"
      ]
     },
     "execution_count": 5,
     "metadata": {},
     "output_type": "execute_result"
    }
   ],
   "source": [
    "%%sql\n",
    "\n",
    "CREATE TRIGGER addCD\n",
    "BEFORE INSERT ON CD\n",
    "BEGIN\n",
    "    INSERT INTO ItemRecords (itemID, penaltyFee, dueDate, available)\n",
    "    VALUES (new.itemID, 0, null, True);\n",
    "END;"
   ]
  },
  {
   "cell_type": "code",
   "execution_count": 6,
   "metadata": {},
   "outputs": [
    {
     "name": "stdout",
     "output_type": "stream",
     "text": [
      " * sqlite:///library.db\n",
      "Done.\n"
     ]
    },
    {
     "data": {
      "text/plain": [
       "[]"
      ]
     },
     "execution_count": 6,
     "metadata": {},
     "output_type": "execute_result"
    }
   ],
   "source": [
    "%%sql\n",
    "\n",
    "CREATE TRIGGER addMagazine\n",
    "BEFORE INSERT ON Magazine\n",
    "BEGIN\n",
    "    INSERT INTO ItemRecords (itemID, penaltyFee, dueDate, available)\n",
    "    VALUES (new.itemID, 0, null, True);\n",
    "END;"
   ]
  },
  {
   "cell_type": "code",
   "execution_count": 7,
   "metadata": {},
   "outputs": [
    {
     "name": "stdout",
     "output_type": "stream",
     "text": [
      " * sqlite:///library.db\n",
      "Done.\n"
     ]
    },
    {
     "data": {
      "text/plain": [
       "[]"
      ]
     },
     "execution_count": 7,
     "metadata": {},
     "output_type": "execute_result"
    }
   ],
   "source": [
    "%%sql\n",
    "\n",
    "CREATE TRIGGER addBookClub\n",
    "BEFORE INSERT ON BookClub\n",
    "BEGIN\n",
    "    INSERT INTO Event (eventID, datetime)\n",
    "    VALUES(new.evenID, null);\n",
    "END;"
   ]
  },
  {
   "cell_type": "code",
   "execution_count": 8,
   "metadata": {},
   "outputs": [
    {
     "name": "stdout",
     "output_type": "stream",
     "text": [
      " * sqlite:///library.db\n",
      "Done.\n"
     ]
    },
    {
     "data": {
      "text/plain": [
       "[]"
      ]
     },
     "execution_count": 8,
     "metadata": {},
     "output_type": "execute_result"
    }
   ],
   "source": [
    "%%sql\n",
    "\n",
    "CREATE TRIGGER artShow\n",
    "BEFORE INSERT ON ArtShow\n",
    "BEGIN\n",
    "    INSERT INTO Event (eventID, datetime)\n",
    "    VALUES(new.evenID, null);\n",
    "END;"
   ]
  },
  {
   "cell_type": "code",
   "execution_count": null,
   "metadata": {},
   "outputs": [],
   "source": [
    "%%sql\n",
    "\n",
    "CREATE TRIGGER onBorrowInsert\n",
    "AFTER INSERT ON Borrow\n",
    "FOR EACH ROW\n",
    "BEGIN \n",
    "    UPDATE ItemRecords\n",
    "    SET available = False, penaltyFee = 150\n",
    "    WHERE NEW.itemID = ItemRecords.itemID;\n",
    "END;"
   ]
  },
  {
   "cell_type": "code",
   "execution_count": null,
   "metadata": {},
   "outputs": [],
   "source": []
  }
 ],
 "metadata": {
  "kernelspec": {
   "display_name": "Python 3",
   "language": "python",
   "name": "python3"
  },
  "language_info": {
   "codemirror_mode": {
    "name": "ipython",
    "version": 3
   },
   "file_extension": ".py",
   "mimetype": "text/x-python",
   "name": "python",
   "nbconvert_exporter": "python",
   "pygments_lexer": "ipython3",
   "version": "3.7.4"
  }
 },
 "nbformat": 4,
 "nbformat_minor": 2
}

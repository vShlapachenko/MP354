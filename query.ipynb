{
 "cells": [
  {
   "cell_type": "markdown",
   "metadata": {},
   "source": [
    "library.db schema: <br />\n",
    "\n",
    "Entity Sets <br />\n",
    "\n",
    " - Person = {<span style=\"text-decoration:underline\">libNumber</span>, firstName, LastName}\n",
    "  \n",
    " - Personnel = {<span style=\"text-decoration:underline\">libNumber</span><sup>FK-Person</sup>, ssn, salary}\n",
    "  \n",
    " - PersonnelRecords = {<span style=\"text-decoration:underline\">logID</span>, messageLog}    \n",
    " \n",
    " - Event = {<span style=\"text-decoration:underline\">eventID</span>, datetime}\n",
    "\n",
    " - Audience = {<span style=\"text-decoration:underline\">audienceID</span>, audienceName}\n",
    " \n",
    " - SocialRoom = {<span style=\"text-decoration:underline\">roomNumber</span>. roomCapacity}\n",
    "\n",
    " - BookClub = {<span style=\"text-decoration:underline\">eventID</span><sup>FK-Event</sup>, clubName}\n",
    " \n",
    " - ArtShow = {<span style=\"text-decoration:underline\">eventID</span><sup>FK-Event</sup>, name}\n",
    "\n",
    " - ItemRecords = {<span style=\"text-decoration:underline\">itemID</span>, penaltyFee, dueDate, available}\n",
    "        \n",
    " - Book = {<span style=\"text-decoration:underline\">itemID</span><sup>FK-ItemRecords</sup>, title, author, publisher}\n",
    "    \n",
    " - CD = {<span style=\"text-decoration:underline\">itemID</span><sup>FK-ItemRecords</sup>, title, producer, director}\n",
    "    \n",
    " - Magazine = {<span style=\"text-decoration:underline\">itemID</span><sup>FK-ItemRecords</sup>, name, publisher}\n",
    "  \n",
    "Relationships <br />\n",
    "\n",
    " - Borrows = {<span style=\"text-decoration:underline\">libNumber</span><sup>FK-Person</sup>, <span style=\"text-decoration:underline\">itemID</span><sup>FK-ItemRecords</sup>}\n",
    "\n",
    " - Log = {<span style=\"text-decoration:underline\">employeeID</span><sup>FK-Oersonnel</sup>, <span style=\"text-decoration:underline\">logID</span><sup>FK-PersonnelRecords</sup>}\n",
    " \n",
    " - Orgabnize = {<span style=\"text-decoration:underline\">eventID</span><sup>FK-Event</sup>, <span style=\"text-decoration:underline\">libNumber</span><sup>FK-Person</sup>}\n",
    " \n",
    " - Recommend = {<span style=\"text-decoration:underline\">type</span><sup>FK-Audience</sup>, <span style=\"text-decoration:underline\">eventID</span><sup>FK-Event</sup>}\n",
    " \n",
    " - Held = {<span style=\"text-decoration:underline\">eventID</span><sup>FK-Event</sup>, <span style=\"text-decoration:underline\">roomNumber</span><sup>FK-SocialRoom</sup>}\n",
    " \n",
    " - Attend = {<span style=\"text-decoration:underline\">ssn</span><sup>FK-Person</sup>, <span style=\"text-decoration:underline\">eventID</span><sup>FK-Event</sup>}\n",
    " \n",
    " - PartOf = {<span style=\"text-decoration:underline\">ssn</span><sup>FK-Person</sup>, <span style=\"text-decoration:underline\">type</span><sup>FK-Recommend</sup>}"
   ]
  },
  {
   "cell_type": "code",
   "execution_count": 2,
   "metadata": {},
   "outputs": [],
   "source": [
    "%load_ext sql"
   ]
  },
  {
   "cell_type": "code",
   "execution_count": 3,
   "metadata": {},
   "outputs": [
    {
     "data": {
      "text/plain": [
       "'Connected: @library.db'"
      ]
     },
     "execution_count": 3,
     "metadata": {},
     "output_type": "execute_result"
    }
   ],
   "source": [
    "%sql sqlite:///library.db"
   ]
  },
  {
   "cell_type": "markdown",
   "metadata": {},
   "source": [
    "- Find an item in the library"
   ]
  },
  {
   "cell_type": "code",
   "execution_count": 4,
   "metadata": {},
   "outputs": [
    {
     "name": "stdout",
     "output_type": "stream",
     "text": [
      " * sqlite:///library.db\n",
      "Done.\n"
     ]
    },
    {
     "data": {
      "text/html": [
       "<table>\n",
       "    <tr>\n",
       "        <th>itemID</th>\n",
       "        <th>penaltyFee</th>\n",
       "        <th>dueDate</th>\n",
       "        <th>available</th>\n",
       "    </tr>\n",
       "    <tr>\n",
       "        <td>21</td>\n",
       "        <td>0.0</td>\n",
       "        <td>None</td>\n",
       "        <td>1</td>\n",
       "    </tr>\n",
       "    <tr>\n",
       "        <td>1600112090099</td>\n",
       "        <td>92.0</td>\n",
       "        <td>01-30-20</td>\n",
       "        <td>0</td>\n",
       "    </tr>\n",
       "    <tr>\n",
       "        <td>1611061342199</td>\n",
       "        <td>98.0</td>\n",
       "        <td>08-23-19</td>\n",
       "        <td>1</td>\n",
       "    </tr>\n",
       "    <tr>\n",
       "        <td>1624042939299</td>\n",
       "        <td>85.0</td>\n",
       "        <td>09-11-20</td>\n",
       "        <td>0</td>\n",
       "    </tr>\n",
       "    <tr>\n",
       "        <td>1629112590199</td>\n",
       "        <td>100.0</td>\n",
       "        <td>08-23-20</td>\n",
       "        <td>1</td>\n",
       "    </tr>\n",
       "    <tr>\n",
       "        <td>1635113073899</td>\n",
       "        <td>99.0</td>\n",
       "        <td>08-03-20</td>\n",
       "        <td>1</td>\n",
       "    </tr>\n",
       "    <tr>\n",
       "        <td>1642090316999</td>\n",
       "        <td>67.0</td>\n",
       "        <td>07-15-20</td>\n",
       "        <td>1</td>\n",
       "    </tr>\n",
       "    <tr>\n",
       "        <td>1652081306399</td>\n",
       "        <td>73.0</td>\n",
       "        <td>04-25-20</td>\n",
       "        <td>1</td>\n",
       "    </tr>\n",
       "    <tr>\n",
       "        <td>1688081360399</td>\n",
       "        <td>63.0</td>\n",
       "        <td>09-29-19</td>\n",
       "        <td>0</td>\n",
       "    </tr>\n",
       "    <tr>\n",
       "        <td>1698110325799</td>\n",
       "        <td>76.0</td>\n",
       "        <td>05-14-21</td>\n",
       "        <td>0</td>\n",
       "    </tr>\n",
       "    <tr>\n",
       "        <td>1699051881199</td>\n",
       "        <td>51.0</td>\n",
       "        <td>05-23-21</td>\n",
       "        <td>0</td>\n",
       "    </tr>\n",
       "</table>"
      ],
      "text/plain": [
       "[(21, 0.0, None, 1),\n",
       " (1600112090099, 92.0, '01-30-20', 0),\n",
       " (1611061342199, 98.0, '08-23-19', 1),\n",
       " (1624042939299, 85.0, '09-11-20', 0),\n",
       " (1629112590199, 100.0, '08-23-20', 1),\n",
       " (1635113073899, 99.0, '08-03-20', 1),\n",
       " (1642090316999, 67.0, '07-15-20', 1),\n",
       " (1652081306399, 73.0, '04-25-20', 1),\n",
       " (1688081360399, 63.0, '09-29-19', 0),\n",
       " (1698110325799, 76.0, '05-14-21', 0),\n",
       " (1699051881199, 51.0, '05-23-21', 0)]"
      ]
     },
     "execution_count": 4,
     "metadata": {},
     "output_type": "execute_result"
    }
   ],
   "source": [
    "%%sql\n",
    "\n",
    "Select *\n",
    "FROM ItemRecords\n",
    "\"add WHERE smth = smth if you want to find smth\""
   ]
  },
  {
   "cell_type": "markdown",
   "metadata": {},
   "source": [
    "- Borrow an item from the library"
   ]
  },
  {
   "cell_type": "code",
   "execution_count": 14,
   "metadata": {},
   "outputs": [
    {
     "name": "stdout",
     "output_type": "stream",
     "text": [
      " * sqlite:///library.db\n",
      "(sqlite3.OperationalError) near \"Select\": syntax error\n",
      "[SQL: INSERT INTO Borrow (libNumber, itemID)\n",
      "VALUES\n",
      "(Select libNumber\n",
      "FROM Person\n",
      "WHERE libNumber = 162012159642,\n",
      "SELECT itemId\n",
      "FROM ItemRecords\n",
      "WHERE itemID = 1629112590199);]\n",
      "(Background on this error at: http://sqlalche.me/e/e3q8)\n"
     ]
    }
   ],
   "source": [
    "%%sql\n",
    "\n",
    "\n",
    "INSERT INTO Borrow (libNumber, itemID)\n",
    "VALUES\n",
    "(A,B);\n",
    "\n",
    "\" VARIABLE A = Select libNumber\n",
    "FROM Person\n",
    "WHERE libNumber = 162012159642\"\n",
    "\n",
    "\" VARIABLE B = SELECT itemId\n",
    "FROM ItemRecords\n",
    "WHERE itemID = 1629112590199\"\n",
    "\n",
    "\"also triggers should be set to change due date to +30 days from todays date\"\n"
   ]
  },
  {
   "cell_type": "markdown",
   "metadata": {},
   "source": [
    "- Return a borrowed item"
   ]
  },
  {
   "cell_type": "code",
   "execution_count": null,
   "metadata": {},
   "outputs": [],
   "source": [
    "%%sql\n",
    "\n",
    "DELETE \n",
    "FROM Borrow\n",
    "WHERE itemID = 1629112590199\n",
    "\n",
    "\"VARIABLE A = SELECT itemId\n",
    "\"FROM ItemRecords\n",
    "WHERE itemID = 1629112590199\"\"\n",
    "\"check item ID from user and insert in here then use it in above sql statment\""
   ]
  },
  {
   "cell_type": "markdown",
   "metadata": {},
   "source": [
    "- Donate an item to the library"
   ]
  },
  {
   "cell_type": "code",
   "execution_count": null,
   "metadata": {},
   "outputs": [],
   "source": [
    "%%sql\n",
    "\n",
    "INSERT INTO ItemRecords (dueDate, available, itemID, penaltyFee) \n",
    "VALUES \n",
    "(null, True, \"give new ItemID\", null)"
   ]
  },
  {
   "cell_type": "markdown",
   "metadata": {},
   "source": [
    "- Find an event in the library"
   ]
  },
  {
   "cell_type": "code",
   "execution_count": null,
   "metadata": {},
   "outputs": [],
   "source": [
    "%%sql \n",
    "\n",
    "SELECT *\n",
    "FROM Event\n",
    "Where eventId = Variable A\n",
    "\n",
    "\"Variable A is found by user input\""
   ]
  },
  {
   "cell_type": "markdown",
   "metadata": {},
   "source": [
    "- Register for an event in the library"
   ]
  },
  {
   "cell_type": "code",
   "execution_count": null,
   "metadata": {},
   "outputs": [],
   "source": [
    "%%sql\n",
    "\n",
    "INSERT INTO Attend (libNumber, eventID)\n",
    "VALUES (Variable A, Variable B)\n",
    "\n",
    "\"variable A = libnumber of someone who wants to register\"\n",
    "\"variable B = event he/she is looking for\""
   ]
  },
  {
   "cell_type": "markdown",
   "metadata": {},
   "source": [
    "- Volunteer for the library"
   ]
  },
  {
   "cell_type": "code",
   "execution_count": null,
   "metadata": {},
   "outputs": [],
   "source": [
    "%%sql\n",
    "\n",
    "INSERT INTO Personnel (libNumber, ssn, salary)\n",
    "VALUES (Variable A, null, 0)\n",
    "\"Variable A = his persons, null coz we dont need ssn from volunteers, 0 because it is volunteering\""
   ]
  },
  {
   "cell_type": "markdown",
   "metadata": {},
   "source": [
    "- Ask for help from a librarian"
   ]
  },
  {
   "cell_type": "code",
   "execution_count": null,
   "metadata": {},
   "outputs": [],
   "source": [
    "%%sql\n",
    "\n",
    "INSERT INTO PersonnelRecords ()"
   ]
  }
 ],
 "metadata": {
  "kernelspec": {
   "display_name": "Python 3",
   "language": "python",
   "name": "python3"
  },
  "language_info": {
   "codemirror_mode": {
    "name": "ipython",
    "version": 3
   },
   "file_extension": ".py",
   "mimetype": "text/x-python",
   "name": "python",
   "nbconvert_exporter": "python",
   "pygments_lexer": "ipython3",
   "version": "3.7.4"
  }
 },
 "nbformat": 4,
 "nbformat_minor": 2
}

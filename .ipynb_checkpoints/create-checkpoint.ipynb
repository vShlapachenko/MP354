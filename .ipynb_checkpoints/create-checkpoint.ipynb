{
 "cells": [
  {
   "cell_type": "markdown",
   "metadata": {},
   "source": [
    "library.db schema: <br />\n",
    "\n",
    "Entity Sets <br />\n",
    "\n",
    " - Person = {<span style=\"text-decoration:underline\">ssn</span><sup>FK-Borrows</sup>, firstName, LastName}\n",
    "\n",
    " - Events = {<span style=\"text-decoration:underline\">eventID</span><sup>FK-(Organize, Recommend, Attend)</sup>, }\n",
    "\n",
    " - Library = {<span style=\"text-decoration:underline\">libraryID</span>, name, address}\n",
    "  \n",
    " - Personnel(sub-cleass to Person) = {<span style=\"text-decoration:underline\">ssn</span><sup>FK-(Person, Works) }\n",
    "  \n",
    " - Audience = {<span style=\"text-decoration:underline\">type</span><sup>FK-(Recommend, Person)</sup>}\n",
    "\n",
    " - Item = {<span style=\"text-decoration:underline\">itemID</span><sup>FK-Borrows</sup>, penaltyFee, dueDate}\n",
    "  \n",
    "Relationships <br />\n",
    "\n",
    " - Borrows = {<span style=\"text-decoration:underline\">ssn</span><sup>FK-Person</sup>, <span style=\"text-decoration:underline\">itemID</span><sup>FK-Item</sup>}\n",
    "\n",
    " - Works = {<span style=\"text-decoration:underline\">studioName</span>, address, homepage, telephoneNumber}\n",
    " \n",
    " - Orgabnize = {<span style=\"text-decoration:underline\">songName</span>, <span style=\"text-decoration:underline\">artistName</span><sup>FK-Artist</sup>, <span style=\"text-decoration:underline\">albumName</span><sup>FK-Album</sup>, length, trackNumber, tablatureURL<sup>FK-Tablature</sup>}\n",
    " \n",
    " - PersonnelRecords = {<span style=\"text-decoration:underline\">URL</span><sup>FK-Song</sup>, date, transcriberName, transcriberEmail}\n",
    " \n",
    " - ItemRecords = {<span style=\"text-decoration:underline\">mucsicianName</span>, instrument, hometown}\n",
    " \n",
    " - MightBeAdded = {<span style=\"text-decoration:underline\">artistName</span><sup>FK-Artist</sup>, <span style=\"text-decoration:underline\">musicianName</span><sup>FK-Musician</sup>}\n",
    "  \n",
    " - Recommend = {<span style=\"text-decoration:underline\">artistName</span><sup>FK-Artist</sup>, <span style=\"text-decoration:underline\">albumName</span><sup>FK-Album</sup>}\n",
    " \n",
    " - Held = {<span style=\"text-decoration:underline\">albumName</span><sup>FK-Album</sup>, <span style=\"text-decoration:underline\">songName</span><sup>FK-Song</sup>, <span style=\"text-decoration:underline\">artistName</span><sup>FK-Artist</sup>}\n",
    " \n",
    " - Attend = {<span style=\"text-decoration:underline\">albumName</span><sup>FK-Album</sup>, <span style=\"text-decoration:underline\">artistName</span><sup>FK-Artist</sup>, <span style=\"text-decoration:underline\">studioName</span><sup>FK-RecordingCompany</sup>}\n",
    " \n",
    " - PartOf = {}\n",
    " \n",
    " - Pocess = {}\n",
    " \n"
   ]
  },
  {
   "cell_type": "markdown",
   "metadata": {},
   "source": [
    "CREATE statements: (1 cellfor each relation)"
   ]
  },
  {
   "cell_type": "code",
   "execution_count": null,
   "metadata": {},
   "outputs": [],
   "source": []
  },
  {
   "cell_type": "code",
   "execution_count": null,
   "metadata": {},
   "outputs": [],
   "source": []
  },
  {
   "cell_type": "code",
   "execution_count": null,
   "metadata": {},
   "outputs": [],
   "source": []
  },
  {
   "cell_type": "code",
   "execution_count": null,
   "metadata": {},
   "outputs": [],
   "source": []
  },
  {
   "cell_type": "code",
   "execution_count": null,
   "metadata": {},
   "outputs": [],
   "source": []
  },
  {
   "cell_type": "code",
   "execution_count": null,
   "metadata": {},
   "outputs": [],
   "source": []
  }
 ],
 "metadata": {
  "kernelspec": {
   "display_name": "Python 3",
   "language": "python",
   "name": "python3"
  },
  "language_info": {
   "codemirror_mode": {
    "name": "ipython",
    "version": 3
   },
   "file_extension": ".py",
   "mimetype": "text/x-python",
   "name": "python",
   "nbconvert_exporter": "python",
   "pygments_lexer": "ipython3",
   "version": "3.7.3"
  }
 },
 "nbformat": 4,
 "nbformat_minor": 2
}
